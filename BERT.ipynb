{
 "cells": [
  {
   "cell_type": "code",
   "id": "initial_id",
   "metadata": {
    "collapsed": true,
    "ExecuteTime": {
     "end_time": "2025-05-11T13:30:31.025864Z",
     "start_time": "2025-05-11T13:30:19.663960Z"
    }
   },
   "source": [
    "import pandas as pd\n",
    "import torch\n",
    "from torch.utils.data import Dataset, DataLoader\n",
    "from transformers import BertTokenizer, BertModel\n",
    "import torch.nn as nn\n",
    "from sklearn.model_selection import train_test_split\n",
    "from sklearn.preprocessing import StandardScaler\n",
    "from sklearn.metrics import classification_report, roc_auc_score\n",
    "import numpy as np"
   ],
   "outputs": [
    {
     "name": "stderr",
     "output_type": "stream",
     "text": [
      "C:\\Users\\Arthur\\OneDrive - Vrije Universiteit Brussel\\Master jaar\\Masterproef\\PY scripts\\.venv\\lib\\site-packages\\tqdm\\auto.py:21: TqdmWarning: IProgress not found. Please update jupyter and ipywidgets. See https://ipywidgets.readthedocs.io/en/stable/user_install.html\n",
      "  from .autonotebook import tqdm as notebook_tqdm\n"
     ]
    }
   ],
   "execution_count": 1
  },
  {
   "metadata": {
    "ExecuteTime": {
     "end_time": "2025-05-11T13:30:31.327654Z",
     "start_time": "2025-05-11T13:30:31.050518Z"
    }
   },
   "cell_type": "code",
   "source": [
    "df = pd.read_csv(\"Data/combined_with_reviews.csv\")\n",
    "\n",
    "df = df[df['review_text'].notnull()]\n",
    "df['review_text'] = df['review_text'].fillna('')\n",
    "text_data = df['review_text'].tolist()\n",
    "labels = df['fraud'].values"
   ],
   "id": "3273da4ddc55573f",
   "outputs": [],
   "execution_count": 2
  },
  {
   "metadata": {
    "ExecuteTime": {
     "end_time": "2025-05-11T13:30:31.696394Z",
     "start_time": "2025-05-11T13:30:31.662556Z"
    }
   },
   "cell_type": "code",
   "source": [
    "meta_cols = ['review_rating', 'author_reviews_count', 'author_ratings_count']\n",
    "df[meta_cols] = df[meta_cols].fillna(0)\n",
    "scaler = StandardScaler()\n",
    "meta_features = scaler.fit_transform(df[meta_cols])"
   ],
   "id": "d46315b4288ced91",
   "outputs": [],
   "execution_count": 3
  },
  {
   "metadata": {
    "ExecuteTime": {
     "end_time": "2025-05-11T13:30:31.823081Z",
     "start_time": "2025-05-11T13:30:31.791635Z"
    }
   },
   "cell_type": "code",
   "source": [
    "X_train_text, X_test_text, X_train_meta, X_test_meta, y_train, y_test = train_test_split(\n",
    "    text_data, meta_features, labels, test_size=0.2, random_state=42, stratify=labels\n",
    ")"
   ],
   "id": "d3bf181801d08dd8",
   "outputs": [],
   "execution_count": 4
  },
  {
   "metadata": {
    "ExecuteTime": {
     "end_time": "2025-05-11T13:30:31.902401Z",
     "start_time": "2025-05-11T13:30:31.888707Z"
    }
   },
   "cell_type": "code",
   "source": [
    "class ReviewDataset(Dataset):\n",
    "    def __init__(self, texts, metas, labels, tokenizer, max_len=64):\n",
    "        self.texts = texts\n",
    "        self.metas = metas\n",
    "        self.labels = labels\n",
    "        self.tokenizer = tokenizer\n",
    "        self.max_len = max_len\n",
    "\n",
    "    def __len__(self):\n",
    "        return len(self.texts)\n",
    "\n",
    "    def __getitem__(self, idx):\n",
    "        encoding = self.tokenizer(\n",
    "            self.texts[idx],\n",
    "            truncation=True,\n",
    "            padding='max_length',\n",
    "            max_length=self.max_len,\n",
    "            return_tensors='pt'\n",
    "        )\n",
    "        return {\n",
    "            'input_ids': encoding['input_ids'].squeeze(0),\n",
    "            'attention_mask': encoding['attention_mask'].squeeze(0),\n",
    "            'meta': torch.tensor(self.metas[idx], dtype=torch.float),\n",
    "            'label': torch.tensor(self.labels[idx], dtype=torch.float)\n",
    "        }\n",
    "\n",
    "class BERTFraudClassifier(nn.Module):\n",
    "    def __init__(self, meta_input_size):\n",
    "        super(BERTFraudClassifier, self).__init__()\n",
    "        self.bert = BertModel.from_pretrained('bert-base-uncased')\n",
    "        self.fc1 = nn.Linear(768 + meta_input_size, 128)\n",
    "        self.dropout = nn.Dropout(0.3)\n",
    "        self.out = nn.Linear(128, 1)\n",
    "\n",
    "    def forward(self, input_ids, attention_mask, meta):\n",
    "        bert_output = self.bert(input_ids=input_ids, attention_mask=attention_mask).pooler_output\n",
    "        x = torch.cat((bert_output, meta), dim=1)\n",
    "        x = self.dropout(torch.relu(self.fc1(x)))\n",
    "        return torch.sigmoid(self.out(x)).squeeze(-1)"
   ],
   "id": "4c273a2e5e8cbf3f",
   "outputs": [],
   "execution_count": 5
  },
  {
   "metadata": {
    "ExecuteTime": {
     "end_time": "2025-05-11T13:30:33.413936Z",
     "start_time": "2025-05-11T13:30:31.949610Z"
    }
   },
   "cell_type": "code",
   "source": [
    "tokenizer = BertTokenizer.from_pretrained('bert-base-uncased')\n",
    "train_dataset = ReviewDataset(X_train_text, X_train_meta, y_train, tokenizer)\n",
    "test_dataset = ReviewDataset(X_test_text, X_test_meta, y_test, tokenizer)\n",
    "train_loader = DataLoader(train_dataset, batch_size=16, shuffle=True)\n",
    "test_loader = DataLoader(test_dataset, batch_size=32)\n",
    "\n",
    "device = torch.device('cuda' if torch.cuda.is_available() else 'cpu')\n",
    "model = BERTFraudClassifier(meta_input_size=X_train_meta.shape[1]).to(device)\n",
    "criterion = nn.BCELoss()\n",
    "optimizer = torch.optim.Adam(model.parameters(), lr=2e-5)"
   ],
   "id": "cb5b60f9c50eb442",
   "outputs": [],
   "execution_count": 6
  },
  {
   "metadata": {
    "jupyter": {
     "is_executing": true
    },
    "ExecuteTime": {
     "start_time": "2025-05-11T13:30:33.463192Z"
    }
   },
   "cell_type": "code",
   "source": [
    "for epoch in range(3):\n",
    "    model.train()\n",
    "    total_loss = 0\n",
    "    for batch in train_loader:\n",
    "        input_ids = batch['input_ids'].to(device)\n",
    "        attention_mask = batch['attention_mask'].to(device)\n",
    "        meta = batch['meta'].to(device)\n",
    "        labels = batch['label'].to(device)\n",
    "\n",
    "        optimizer.zero_grad()\n",
    "        outputs = model(input_ids, attention_mask, meta)\n",
    "        loss = criterion(outputs, labels)\n",
    "        loss.backward()\n",
    "        optimizer.step()\n",
    "        total_loss += loss.item()\n",
    "\n",
    "    print(f\"Epoch {epoch+1} Loss: {total_loss / len(train_loader):.4f}\")\n"
   ],
   "id": "d0ff0244a3d1fc40",
   "outputs": [],
   "execution_count": null
  },
  {
   "metadata": {},
   "cell_type": "code",
   "outputs": [],
   "execution_count": null,
   "source": [
    "model.eval()\n",
    "all_preds, all_labels = [], []\n",
    "\n",
    "with torch.no_grad():\n",
    "    for batch in test_loader:\n",
    "        input_ids = batch['input_ids'].to(device)\n",
    "        attention_mask = batch['attention_mask'].to(device)\n",
    "        meta = batch['meta'].to(device)\n",
    "        labels = batch['label'].cpu().numpy()\n",
    "\n",
    "        outputs = model(input_ids, attention_mask, meta).cpu().numpy()\n",
    "        all_preds.extend(outputs)\n",
    "        all_labels.extend(labels)\n",
    "\n",
    "preds_bin = [1 if p >= 0.5 else 0 for p in all_preds]\n",
    "\n",
    "print(\"Classification Report:\")\n",
    "print(classification_report(all_labels, preds_bin))\n",
    "print(\"ROC AUC:\", roc_auc_score(all_labels, all_preds))"
   ],
   "id": "1119488af97e1968"
  }
 ],
 "metadata": {
  "kernelspec": {
   "display_name": "Python 3",
   "language": "python",
   "name": "python3"
  },
  "language_info": {
   "codemirror_mode": {
    "name": "ipython",
    "version": 2
   },
   "file_extension": ".py",
   "mimetype": "text/x-python",
   "name": "python",
   "nbconvert_exporter": "python",
   "pygments_lexer": "ipython2",
   "version": "2.7.6"
  }
 },
 "nbformat": 4,
 "nbformat_minor": 5
}
