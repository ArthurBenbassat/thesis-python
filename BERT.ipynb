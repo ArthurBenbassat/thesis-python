{
 "cells": [
  {
   "cell_type": "code",
   "execution_count": null,
   "metadata": {
    "id": "ieqWCI_dAy4p"
   },
   "outputs": [],
   "source": [
    "import pandas as pd\n",
    "import torch\n",
    "from torch.utils.data import Dataset, DataLoader\n",
    "from transformers import BertTokenizer, BertModel\n",
    "import torch.nn as nn\n",
    "from sklearn.model_selection import train_test_split\n",
    "from sklearn.preprocessing import StandardScaler\n",
    "from sklearn.metrics import classification_report, roc_auc_score, confusion_matrix, ConfusionMatrixDisplay\n",
    "import matplotlib.pyplot as plt\n",
    "import numpy as np"
   ]
  },
  {
   "cell_type": "code",
   "execution_count": null,
   "metadata": {
    "id": "JD0e3LaEAGeo"
   },
   "outputs": [],
   "source": [
    "df = pd.read_csv(\"/content/gebalanceerd_bedrijven.csv\")\n",
    "\n",
    "# Zorg dat review_text niet null is\n",
    "df = df[df['review_text'].notnull()]\n",
    "df['review_text'] = df['review_text'].fillna('')\n",
    "\n",
    "# de bewuste group by\n",
    "grouped = df.groupby(\"place_id\").agg({\n",
    "    \"review_text\": lambda x: \" \".join(x.dropna()),\n",
    "    \"review_rating\": \"mean\",\n",
    "    \"author_reviews_count\": \"mean\",\n",
    "    \"author_ratings_count\": \"mean\",\n",
    "    \"fraud\": \"max\"\n",
    "}).reset_index()\n",
    "\n",
    "df_fraud = grouped[grouped['fraud'] == 1]\n",
    "df_nonfraud = grouped[grouped['fraud'] == 0]\n",
    "n_samples = min(len(df_fraud), len(df_nonfraud))\n",
    "\n",
    "# eigenlijk niet meer nodig\n",
    "df_balanced = pd.concat([\n",
    "    df_fraud.sample(n=n_samples, random_state=42),\n",
    "    df_nonfraud.sample(n=n_samples, random_state=42)\n",
    "]).sample(frac=1, random_state=42).reset_index(drop=True)\n"
   ]
  },
  {
   "cell_type": "code",
   "execution_count": null,
   "metadata": {
    "id": "k_RHGYZiBd0Z"
   },
   "outputs": [],
   "source": [
    "text_data = df_balanced[\"review_text\"].tolist()\n",
    "labels = df_balanced[\"fraud\"].values\n",
    "\n",
    "meta_cols = ['review_rating', 'author_reviews_count', 'author_ratings_count']\n",
    "df_balanced[meta_cols] = df_balanced[meta_cols].fillna(0)\n",
    "scaler = StandardScaler()\n",
    "meta_features = scaler.fit_transform(df_balanced[meta_cols])\n",
    "\n",
    "# Train/test-split\n",
    "X_train_text, X_test_text, X_train_meta, X_test_meta, y_train, y_test = train_test_split(\n",
    "    text_data, meta_features, labels, test_size=0.2, random_state=42, stratify=labels\n",
    ")"
   ]
  },
  {
   "cell_type": "code",
   "execution_count": null,
   "metadata": {
    "id": "AZ7sMhzW5Q04"
   },
   "outputs": [],
   "source": [
    "class ReviewDataset(Dataset):\n",
    "    def __init__(self, texts, metas, labels, tokenizer, max_len=128):\n",
    "        self.texts = texts\n",
    "        self.metas = metas\n",
    "        self.labels = labels\n",
    "        self.tokenizer = tokenizer\n",
    "        self.max_len = max_len\n",
    "\n",
    "    def __len__(self):\n",
    "        return len(self.texts)\n",
    "\n",
    "    def __getitem__(self, idx):\n",
    "        encoding = self.tokenizer(\n",
    "            self.texts[idx],\n",
    "            truncation=True,\n",
    "            padding='max_length',\n",
    "            max_length=self.max_len,\n",
    "            return_tensors='pt'\n",
    "        )\n",
    "        return {\n",
    "            'input_ids': encoding['input_ids'].squeeze(0),\n",
    "            'attention_mask': encoding['attention_mask'].squeeze(0),\n",
    "            'meta': torch.tensor(self.metas[idx], dtype=torch.float),\n",
    "            'label': torch.tensor(self.labels[idx], dtype=torch.float)\n",
    "        }\n",
    "\n",
    "# Model\n",
    "class BERTFraudClassifier(nn.Module):\n",
    "    def __init__(self, meta_input_size):\n",
    "        super(BERTFraudClassifier, self).__init__()\n",
    "        self.bert = BertModel.from_pretrained('bert-base-uncased')\n",
    "        self.fc1 = nn.Linear(768 + meta_input_size, 128)\n",
    "        self.dropout = nn.Dropout(0.1)\n",
    "        self.out = nn.Linear(128, 1)\n",
    "\n",
    "    def forward(self, input_ids, attention_mask, meta):\n",
    "        bert_output = self.bert(input_ids=input_ids, attention_mask=attention_mask).pooler_output\n",
    "        x = torch.cat((bert_output, meta), dim=1)\n",
    "        x = self.dropout(torch.relu(self.fc1(x)))\n",
    "        return torch.sigmoid(self.out(x)).squeeze(-1)"
   ]
  },
  {
   "cell_type": "code",
   "execution_count": null,
   "metadata": {
    "id": "deGaepRu5UOU"
   },
   "outputs": [],
   "source": [
    "tokenizer = BertTokenizer.from_pretrained('bert-base-uncased',  use_fast=True)\n",
    "\n",
    "\n",
    "train_dataset = ReviewDataset(X_train_text, X_train_meta, y_train, tokenizer)\n",
    "test_dataset = ReviewDataset(X_test_text, X_test_meta, y_test, tokenizer)\n",
    "train_loader = DataLoader(train_dataset, batch_size=8, shuffle=True)\n",
    "test_loader = DataLoader(test_dataset, batch_size=16)\n",
    "\n",
    "device = torch.device('cuda' if torch.cuda.is_available() else 'cpu')\n",
    "model = BERTFraudClassifier(meta_input_size=X_train_meta.shape[1]).to(device)\n",
    "criterion = nn.BCELoss()\n",
    "optimizer = torch.optim.Adam(model.parameters(), lr=2e-5)"
   ]
  },
  {
   "cell_type": "code",
   "execution_count": null,
   "metadata": {
    "colab": {
     "base_uri": "https://localhost:8080/"
    },
    "id": "h5NNwYyo5rD8",
    "outputId": "b2c1270e-278d-42c4-d41f-6b6b2938ad98"
   },
   "outputs": [
    {
     "output_type": "stream",
     "name": "stdout",
     "text": [
      "Epoch 1 Loss: 0.5575\n",
      "Epoch 2 Loss: 0.4428\n",
      "Epoch 3 Loss: 0.4169\n"
     ]
    }
   ],
   "source": [
    "for epoch in range(3):\n",
    "    model.train()\n",
    "    total_loss = 0\n",
    "    for batch in train_loader:\n",
    "        input_ids = batch['input_ids'].to(device)\n",
    "        attention_mask = batch['attention_mask'].to(device)\n",
    "        meta = batch['meta'].to(device)\n",
    "        labels = batch['label'].to(device)\n",
    "\n",
    "        optimizer.zero_grad()\n",
    "        outputs = model(input_ids, attention_mask, meta)\n",
    "        loss = criterion(outputs, labels)\n",
    "        loss.backward()\n",
    "        optimizer.step()\n",
    "        total_loss += loss.item()\n",
    "    print(f\"Epoch {epoch+1} Loss: {total_loss / len(train_loader):.4f}\")"
   ]
  },
  {
   "cell_type": "code",
   "execution_count": null,
   "metadata": {
    "colab": {
     "base_uri": "https://localhost:8080/",
     "height": 663
    },
    "id": "5mCgp8EU5sef",
    "outputId": "d02bb3af-893d-4d08-d72b-8074fc983662"
   },
   "outputs": [
    {
     "output_type": "stream",
     "name": "stdout",
     "text": [
      "Classification Report:\n",
      "              precision    recall  f1-score   support\n",
      "\n",
      "         0.0       0.73      0.97      0.83       117\n",
      "         1.0       0.95      0.64      0.77       117\n",
      "\n",
      "    accuracy                           0.80       234\n",
      "   macro avg       0.84      0.80      0.80       234\n",
      "weighted avg       0.84      0.80      0.80       234\n",
      "\n",
      "ROC AUC: 0.8663890715172766\n"
     ]
    },
    {
     "output_type": "display_data",
     "data": {
      "text/plain": [
       "<Figure size 640x480 with 2 Axes>"
      ],
      "image/png": "[encoded data removed]"
     },
     "metadata": {}
    }
   ],
   "source": [
    "model.eval()\n",
    "all_preds, all_labels = [], []\n",
    "\n",
    "with torch.no_grad():\n",
    "    for batch in test_loader:\n",
    "        input_ids = batch['input_ids'].to(device)\n",
    "        attention_mask = batch['attention_mask'].to(device)\n",
    "        meta = batch['meta'].to(device)\n",
    "        labels = batch['label'].cpu().numpy()\n",
    "        outputs = model(input_ids, attention_mask, meta).cpu().numpy()\n",
    "        all_preds.extend(outputs)\n",
    "        all_labels.extend(labels)\n",
    "\n",
    "preds_bin = [1 if p >= 0.5 else 0 for p in all_preds]\n",
    "print(\"Classification Report:\")\n",
    "print(classification_report(all_labels, preds_bin))\n",
    "print(\"ROC AUC:\", roc_auc_score(all_labels, all_preds))\n",
    "\n",
    "cm = confusion_matrix(all_labels, preds_bin)\n",
    "disp = ConfusionMatrixDisplay(confusion_matrix=cm, display_labels=[\"Not Fraud\", \"Fraud\"])\n",
    "disp.plot(cmap=plt.cm.Blues)\n",
    "plt.title(\"Confusion Matrix\")\n",
    "plt.show()"
   ]
  }
 ],
 "metadata": {
  "accelerator": "GPU",
  "colab": {
   "gpuType": "L4",
   "provenance": []
  },
  "kernelspec": {
   "display_name": "Python 3",
   "name": "python3"
  },
  "language_info": {
   "name": "python"
  }
 },
 "nbformat": 4,
 "nbformat_minor": 0
}
