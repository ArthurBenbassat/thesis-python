{
 "cells": [
  {
   "cell_type": "code",
   "id": "initial_id",
   "metadata": {
    "collapsed": true,
    "ExecuteTime": {
     "end_time": "2025-03-26T13:14:15.648095Z",
     "start_time": "2025-03-26T13:14:15.632372Z"
    }
   },
   "source": [
    "import pandas as pd\n",
    "import sys\n",
    "import numpy as np\n",
    "from dotenv import load_dotenv\n",
    "load_dotenv()\n",
    "import os\n",
    "import requests\n"
   ],
   "outputs": [],
   "execution_count": 27
  },
  {
   "metadata": {
    "ExecuteTime": {
     "end_time": "2025-03-26T13:14:15.679691Z",
     "start_time": "2025-03-26T13:14:15.652825Z"
    }
   },
   "cell_type": "code",
   "source": "data = pd.read_csv(\"Data/companies_with_address.csv\" , delimiter=\";\")\n",
   "id": "27ece55ad5dcceab",
   "outputs": [],
   "execution_count": 28
  },
  {
   "metadata": {
    "ExecuteTime": {
     "end_time": "2025-03-26T13:14:15.713804Z",
     "start_time": "2025-03-26T13:14:15.697839Z"
    }
   },
   "cell_type": "code",
   "source": [
    "def get_place_id(name, address, place):\n",
    "    base_url = \"https://maps.googleapis.com/maps/api/place/findplacefromtext/json\"\n",
    "    params = {\n",
    "        \"input\": f\"{name}, {address} {place}\",\n",
    "        \"inputtype\": \"textquery\",\n",
    "        \"fields\": \"place_id\",\n",
    "        \"key\": os.getenv(\"GOOGLE_API_KEY\")\n",
    "    }\n",
    "\n",
    "    response = requests.get(base_url, params=params)\n",
    "    result = response.json()\n",
    "\n",
    "    if result.get(\"candidates\"):\n",
    "        return result[\"candidates\"][0][\"place_id\"]\n",
    "    else:\n",
    "        return None"
   ],
   "id": "7bae5e40a56df06f",
   "outputs": [],
   "execution_count": 29
  },
  {
   "metadata": {
    "ExecuteTime": {
     "end_time": "2025-03-26T13:14:26.575401Z",
     "start_time": "2025-03-26T13:14:15.729825Z"
    }
   },
   "cell_type": "code",
   "source": [
    "data['place_id'] = data.head(10).apply(lambda row: get_place_id(row['Naam'], row['Adres'], row['Gemeente']), axis=1)\n",
    "data.head()"
   ],
   "id": "8554cc579dd70dcd",
   "outputs": [
    {
     "data": {
      "text/plain": [
       "                          Naam      Gemeente  Laatste jaar  \\\n",
       "0                 ALPHA CREDIT       BRUSSEL        2023.0   \n",
       "1                       COWBOY       BRUSSEL        2023.0   \n",
       "2                          DOD       BRUSSEL        2014.0   \n",
       "3  UNIVERSAL TRADING SOLUTIONS       BRUSSEL        2013.0   \n",
       "4                        VANBO  BEVEREN-LEIE        2011.0   \n",
       "\n",
       "                   Adres Ondernemingsnummer BvD ID nummer  \\\n",
       "0      Warandeberg 8 b.3       0445 781 316  BE0445781316   \n",
       "1  Regentschapsstraat 67       0669 908 031  BE0669908031   \n",
       "2    Leuvensesteenweg 16       0419 684 455  BE0419684455   \n",
       "3         Louizalaan 367       0849 251 826  BE0849251826   \n",
       "4       Grote Heerweg 69       0426 734 474  BE0426734474   \n",
       "\n",
       "                      place_id  \n",
       "0  ChIJH-_EZIDEw0cR0R-3VfmWrSk  \n",
       "1  ChIJWysouY7Fw0cRO7FXCva-I-8  \n",
       "2  ChIJRx4JfGPDw0cRFKkBYiz9EZQ  \n",
       "3  ChIJCSJGeu7Ew0cRUXzNiq8nekU  \n",
       "4  ChIJU_xXtAU8w0cRvnFySR_t8Bw  "
      ],
      "text/html": [
       "<div>\n",
       "<style scoped>\n",
       "    .dataframe tbody tr th:only-of-type {\n",
       "        vertical-align: middle;\n",
       "    }\n",
       "\n",
       "    .dataframe tbody tr th {\n",
       "        vertical-align: top;\n",
       "    }\n",
       "\n",
       "    .dataframe thead th {\n",
       "        text-align: right;\n",
       "    }\n",
       "</style>\n",
       "<table border=\"1\" class=\"dataframe\">\n",
       "  <thead>\n",
       "    <tr style=\"text-align: right;\">\n",
       "      <th></th>\n",
       "      <th>Naam</th>\n",
       "      <th>Gemeente</th>\n",
       "      <th>Laatste jaar</th>\n",
       "      <th>Adres</th>\n",
       "      <th>Ondernemingsnummer</th>\n",
       "      <th>BvD ID nummer</th>\n",
       "      <th>place_id</th>\n",
       "    </tr>\n",
       "  </thead>\n",
       "  <tbody>\n",
       "    <tr>\n",
       "      <th>0</th>\n",
       "      <td>ALPHA CREDIT</td>\n",
       "      <td>BRUSSEL</td>\n",
       "      <td>2023.0</td>\n",
       "      <td>Warandeberg 8 b.3</td>\n",
       "      <td>0445 781 316</td>\n",
       "      <td>BE0445781316</td>\n",
       "      <td>ChIJH-_EZIDEw0cR0R-3VfmWrSk</td>\n",
       "    </tr>\n",
       "    <tr>\n",
       "      <th>1</th>\n",
       "      <td>COWBOY</td>\n",
       "      <td>BRUSSEL</td>\n",
       "      <td>2023.0</td>\n",
       "      <td>Regentschapsstraat 67</td>\n",
       "      <td>0669 908 031</td>\n",
       "      <td>BE0669908031</td>\n",
       "      <td>ChIJWysouY7Fw0cRO7FXCva-I-8</td>\n",
       "    </tr>\n",
       "    <tr>\n",
       "      <th>2</th>\n",
       "      <td>DOD</td>\n",
       "      <td>BRUSSEL</td>\n",
       "      <td>2014.0</td>\n",
       "      <td>Leuvensesteenweg 16</td>\n",
       "      <td>0419 684 455</td>\n",
       "      <td>BE0419684455</td>\n",
       "      <td>ChIJRx4JfGPDw0cRFKkBYiz9EZQ</td>\n",
       "    </tr>\n",
       "    <tr>\n",
       "      <th>3</th>\n",
       "      <td>UNIVERSAL TRADING SOLUTIONS</td>\n",
       "      <td>BRUSSEL</td>\n",
       "      <td>2013.0</td>\n",
       "      <td>Louizalaan 367</td>\n",
       "      <td>0849 251 826</td>\n",
       "      <td>BE0849251826</td>\n",
       "      <td>ChIJCSJGeu7Ew0cRUXzNiq8nekU</td>\n",
       "    </tr>\n",
       "    <tr>\n",
       "      <th>4</th>\n",
       "      <td>VANBO</td>\n",
       "      <td>BEVEREN-LEIE</td>\n",
       "      <td>2011.0</td>\n",
       "      <td>Grote Heerweg 69</td>\n",
       "      <td>0426 734 474</td>\n",
       "      <td>BE0426734474</td>\n",
       "      <td>ChIJU_xXtAU8w0cRvnFySR_t8Bw</td>\n",
       "    </tr>\n",
       "  </tbody>\n",
       "</table>\n",
       "</div>"
      ]
     },
     "execution_count": 30,
     "metadata": {},
     "output_type": "execute_result"
    }
   ],
   "execution_count": 30
  },
  {
   "metadata": {},
   "cell_type": "code",
   "outputs": [],
   "execution_count": null,
   "source": "",
   "id": "619b509c8e13b2bb"
  }
 ],
 "metadata": {
  "kernelspec": {
   "display_name": "Python 3",
   "language": "python",
   "name": "python3"
  },
  "language_info": {
   "codemirror_mode": {
    "name": "ipython",
    "version": 2
   },
   "file_extension": ".py",
   "mimetype": "text/x-python",
   "name": "python",
   "nbconvert_exporter": "python",
   "pygments_lexer": "ipython2",
   "version": "2.7.6"
  }
 },
 "nbformat": 4,
 "nbformat_minor": 5
}
