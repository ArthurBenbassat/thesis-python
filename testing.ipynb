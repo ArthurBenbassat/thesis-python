{
 "cells": [
  {
   "cell_type": "code",
   "id": "initial_id",
   "metadata": {
    "collapsed": true,
    "ExecuteTime": {
     "end_time": "2025-05-06T07:50:40.264133Z",
     "start_time": "2025-05-06T07:50:38.788322Z"
    }
   },
   "source": [
    "import pandas as pd\n",
    "import sys\n",
    "import numpy as np\n",
    "from dotenv import load_dotenv\n",
    "load_dotenv()\n",
    "import os\n",
    "import requests\n",
    "from google_maps_reviews import ReviewsClient\n",
    "api_client = ReviewsClient(api_key=os.getenv(\"OUTSCRAPE_NEW_KEY\"))"
   ],
   "outputs": [],
   "execution_count": 1
  },
  {
   "cell_type": "code",
   "id": "27ece55ad5dcceab",
   "metadata": {
    "ExecuteTime": {
     "end_time": "2025-05-06T07:50:40.687942Z",
     "start_time": "2025-05-06T07:50:40.640994Z"
    }
   },
   "source": [
    "data = pd.read_csv(\"Data/companies_with_address.csv\" , delimiter=\";\")\n"
   ],
   "outputs": [],
   "execution_count": 2
  },
  {
   "cell_type": "code",
   "id": "7bae5e40a56df06f",
   "metadata": {
    "ExecuteTime": {
     "end_time": "2025-05-06T07:50:40.776300Z",
     "start_time": "2025-05-06T07:50:40.757438Z"
    }
   },
   "source": [
    "def get_place_id(name, address, place):\n",
    "    base_url = \"https://maps.googleapis.com/maps/api/place/findplacefromtext/json\"\n",
    "    params = {\n",
    "        \"input\": f\"{name}, {address} {place}\",\n",
    "        \"inputtype\": \"textquery\",\n",
    "        \"fields\": \"place_id\",\n",
    "        \"key\": os.getenv(\"GOOGLE_API_KEY\")\n",
    "    }\n",
    "\n",
    "    response = requests.get(base_url, params=params)\n",
    "    result = response.json()\n",
    "\n",
    "    if result.get(\"candidates\"):\n",
    "        return result[\"candidates\"][0][\"place_id\"]\n",
    "    else:\n",
    "        return None"
   ],
   "outputs": [],
   "execution_count": 3
  },
  {
   "cell_type": "code",
   "id": "8554cc579dd70dcd",
   "metadata": {
    "ExecuteTime": {
     "end_time": "2025-05-06T08:01:18.395605Z",
     "start_time": "2025-05-06T07:50:40.811828Z"
    }
   },
   "source": [
    "data['place_id'] = data.apply(lambda row: get_place_id(row['Naam'], row['Adres'], row['Gemeente']), axis=1)\n",
    "data['place_id'].isna().sum(), data['place_id'].notna().sum()\n"
   ],
   "outputs": [
    {
     "data": {
      "text/plain": [
       "(np.int64(215), np.int64(1232))"
      ]
     },
     "execution_count": 4,
     "metadata": {},
     "output_type": "execute_result"
    }
   ],
   "execution_count": 4
  },
  {
   "metadata": {
    "ExecuteTime": {
     "end_time": "2025-05-06T08:45:14.270073Z",
     "start_time": "2025-05-06T08:45:14.238042Z"
    }
   },
   "cell_type": "code",
   "source": [
    "# save the data with place_id\n",
    "data = data.dropna(subset=['place_id'])\n",
    "data.to_csv(\"Data/companies_with_place_id.csv\", index=False, sep=\";\")"
   ],
   "id": "42fa137904779e17",
   "outputs": [],
   "execution_count": 7
  },
  {
   "cell_type": "code",
   "id": "619b509c8e13b2bb",
   "metadata": {
    "ExecuteTime": {
     "end_time": "2025-05-06T08:44:02.968331Z",
     "start_time": "2025-05-06T08:01:18.494790Z"
    }
   },
   "source": [
    "data['reviews'] = data.apply(lambda row: api_client.get_reviews(row['place_id'], 250, language='en') if pd.notna(row['place_id']) and row['place_id'] else None, axis=1)\n",
    "\n",
    "data\n",
    "\n"
   ],
   "outputs": [
    {
     "name": "stderr",
     "output_type": "stream",
     "text": [
      "\n",
      "KeyboardInterrupt\n",
      "\n"
     ]
    }
   ],
   "execution_count": 5
  },
  {
   "metadata": {},
   "cell_type": "code",
   "outputs": [],
   "execution_count": null,
   "source": [
    "# dataset to csv\n",
    "data.to_csv(\"Data/companies_with_reviews.csv\", index=False, sep=\";\")"
   ],
   "id": "80eaa8edc2f14287"
  }
 ],
 "metadata": {
  "kernelspec": {
   "display_name": "Python 3",
   "language": "python",
   "name": "python3"
  },
  "language_info": {
   "codemirror_mode": {
    "name": "ipython",
    "version": 2
   },
   "file_extension": ".py",
   "mimetype": "text/x-python",
   "name": "python",
   "nbconvert_exporter": "python",
   "pygments_lexer": "ipython2",
   "version": "2.7.6"
  }
 },
 "nbformat": 4,
 "nbformat_minor": 5
}
