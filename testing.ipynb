{
 "cells": [
  {
   "cell_type": "code",
   "id": "initial_id",
   "metadata": {
    "collapsed": true,
    "ExecuteTime": {
     "end_time": "2025-05-15T12:45:02.984309Z",
     "start_time": "2025-05-15T12:45:02.971069Z"
    }
   },
   "source": "import pandas as pd",
   "outputs": [],
   "execution_count": 1
  },
  {
   "cell_type": "code",
   "id": "27ece55ad5dcceab",
   "metadata": {
    "ExecuteTime": {
     "end_time": "2025-05-15T12:46:10.706131Z",
     "start_time": "2025-05-15T12:46:10.410614Z"
    }
   },
   "source": "df = pd.read_csv(\"Data/combined_with_reviews.csv\")\n",
   "outputs": [],
   "execution_count": 3
  },
  {
   "cell_type": "code",
   "id": "7bae5e40a56df06f",
   "metadata": {
    "ExecuteTime": {
     "end_time": "2025-05-15T12:46:13.715724Z",
     "start_time": "2025-05-15T12:46:13.678944Z"
    }
   },
   "source": [
    "bedrijf_fraude = df.groupby(\"place_id\")[\"fraud\"].max().reset_index()\n",
    "\n",
    "# Scheid frauduleuze en niet-frauduleuze bedrijven\n",
    "fraude = bedrijf_fraude[bedrijf_fraude[\"fraud\"] == 1]\n",
    "niet_fraude = bedrijf_fraude[bedrijf_fraude[\"fraud\"] == 0]\n",
    "\n",
    "# Neem een even groot aantal niet-frauduleuze bedrijven als er frauduleuze zijn\n",
    "niet_fraude_balanced = niet_fraude.sample(n=len(fraude), random_state=42)"
   ],
   "outputs": [],
   "execution_count": 4
  },
  {
   "cell_type": "code",
   "id": "8554cc579dd70dcd",
   "metadata": {
    "ExecuteTime": {
     "end_time": "2025-05-15T12:46:17.154727Z",
     "start_time": "2025-05-15T12:46:16.439203Z"
    }
   },
   "source": [
    "niet_fraude_balanced = niet_fraude.sample(n=len(fraude), random_state=42)\n",
    "\n",
    "# Combineer beide subsets\n",
    "gebalanceerd = pd.concat([fraude, niet_fraude_balanced])\n",
    "\n",
    "# Filter het originele dataframe om alleen gegevens van deze bedrijven te houden\n",
    "df_balanced = df[df[\"place_id\"].isin(gebalanceerd[\"place_id\"])]\n",
    "\n",
    "# Exporteer naar nieuwe CSV\n",
    "df_balanced.to_csv(\"Data/gebalanceerd_bedrijven.csv\", index=False)"
   ],
   "outputs": [],
   "execution_count": 5
  }
 ],
 "metadata": {
  "kernelspec": {
   "display_name": "Python 3",
   "language": "python",
   "name": "python3"
  },
  "language_info": {
   "codemirror_mode": {
    "name": "ipython",
    "version": 2
   },
   "file_extension": ".py",
   "mimetype": "text/x-python",
   "name": "python",
   "nbconvert_exporter": "python",
   "pygments_lexer": "ipython2",
   "version": "2.7.6"
  }
 },
 "nbformat": 4,
 "nbformat_minor": 5
}
